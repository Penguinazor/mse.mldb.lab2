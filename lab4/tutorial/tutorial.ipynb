{
 "cells": [
  {
   "cell_type": "markdown",
   "metadata": {},
   "source": [
    "# Getting started with Python, Anaconda and virtualenvs\n",
    "\n",
    "Author: Gary Marigliano, gary.marigliano@heig-vd.ch\n",
    "\n",
    "<i> Modified from Tutorial, courtesy of Gary Marigliano  (<a href=\"mailto:fary.marigliano@heig-vd.ch\">gary.marigliano@heig-vd.ch</a>). </i>\n",
    "- Professeur: Carlos Peña (<a href=\"mailto:carlos.pena@heig-vd.ch\">carlos.pena@heig-vd.ch</a>)\n",
    "- Assistant 2018: Gary Marigliano (<a href=\"mailto:gary.marigliano@heig-vd.ch\">gary.marigliano@heig-vd.ch</a>)\n",
    "- Assistant 2019: Diogo Leite (<a href=\"mailto:diogo.leite@heig-vd.ch\">diogo.leite@heig-vd.ch</a>)\n",
    "\n",
    "In this document, you will learn:\n",
    "\n",
    "- How to install everything you will need for this course\n",
    "- A basic introduction to Anaconda and Python virtual environments\n",
    "- How to use and share a reproducable development environment for (your/any) Python projects\n",
    "\n",
    "\n",
    "Date: Winter 2019"
   ]
  },
  {
   "cell_type": "markdown",
   "metadata": {},
   "source": [
    "## Anaconda\n",
    "\n",
    "### What is it ?\n",
    "\n",
    "Python is a general-purpose programming language. Nowadays it has a great success among data scientists because it is relatively simple to learn, allows for rapid prototyping and offers great libraries. \n",
    "\n",
    "Two versions of Python are currently in production, Python 2.7 and Python 3.X. Legacy applications/labs still use Python 2 but if you are starting a new project, it is better to choose Python 3. \n",
    "\n",
    "To use Python, you can install Python from the official website. However, **for this course we will use Anaconda**.\n",
    "\n",
    "Anaconda is a Python distribution that means that Anaconda is installed \"on top\" of your maybe-already-installed Python. **The main selling point here is that Anaconda allows you to create virtualenvs (virtual environments)**. A virtualenv is very useful to have an isolated place where you will install all the dependencies for your Python project. This allows you, for example, to have a Project A with Lib X version 1.0 and a Project B with the same Lib X  but version 2.0 installed on the same computer but isolated (i.e. no conflict) between virtualenvs. \n",
    "\n",
    "In short:\n",
    "\n",
    "- Anaconda is required because it allows the use of virtualenvs\n",
    "- Virtualenvs are isolated and reproductable/sharable environment where you can install all the dependencies your project needs\n",
    "- <b>1 Python project/lab = 1 virtualenv</b>\n",
    "\n",
    "Note to advanced users: Python's pip tool also allows you to create virtualenvs but Anaconda (with the help of... pip) will also install some more internal requirements (such as C++ dependancies or C compiler) when dealing with libraries that not use exclusively Python code. However, you possibly could achieve the same result with only pip and some manual interventions. Also Anaconda can download a specific version of Python for a given virtualenv althought it is not the version of Python you have installed on your computer. To make things simpler for everyone, we chose to use Anaconda.\n",
    "\n",
    "### How to install it ?\n",
    "\n",
    "- Install [Anaconda](https://www.anaconda.com/download/) **The version 32bits** . Choose the Python 3 version. If you don't have any Pythons installed, download the Python 3 version\n",
    "- On Windows, start `Anaconda Prompt`.\n",
    "- On Linux/MacOS, you are a grown person, you will find it yourself :) Maybe don't forget to add Anaconda (`<path_to_anaconda>/bin` - <b>It is proposed to do that during the installation</b>) to your `PATH` variable\n",
    "\n",
    "### How to use Anaconda to create _virtualenvs_ ?\n",
    "\n",
    "We will create a \"hello world\" virtualenv using Anaconda.\n",
    "\n",
    "Create a folder tree like this:\n",
    "\n",
    "```\n",
    "─ hello_virtualenvs/\n",
    "  ├── main.py\n",
    "  └── requirements.txt\n",
    "```\n",
    "\n",
    "In main.py paste the following content:\n",
    "\n",
    "``` python\n",
    "#!/usr/bin/env python\n",
    "# coding: utf-8\n",
    "\n",
    "# note: in Python, it is recommended to specify the encoding of the file you use. On Python 3 it is automatic.\n",
    "\n",
    "# this indicates we will use the module xkcd, it is not included in Python, you need to download this library\n",
    "import xkcd\n",
    "\n",
    "if __name__ == \"__main__\":\n",
    "    print(\"Opening xkcd joke on web browser...\")\n",
    "    xkcd.Comic(353).show()\n",
    "    \n",
    "    # FYI, you can achieve the same result with the built-in easter egg in python by calling\n",
    "    # import antigravity (remove comment...)\n",
    "\n",
    "```\n",
    "\n",
    "In requirements.txt paste the following content:\n",
    "\n",
    "```\n",
    "xkcd==2.4.2\n",
    "```\n",
    "\n",
    "The role of `requirements.txt` is to hold all the Python dependencies a project needs. Indeed with only one file you should be able to reproduce a working development environment to run and develop the project.\n",
    "\n",
    "To use `requirements.txt` i.e. install all the dependencies you will first need to create a virtualenv. In the same folder, open a terminal (or Anaconda Prompt if you are ~~lame~~ on Windows) and enter the following commands:\n",
    "\n",
    "```\n",
    "conda create --name my_hello_env python=3.6\n",
    "conda activate my_hello_env\n",
    "```\n",
    "\n",
    "Your terminal's prompt should have changed indicating you are using `my_hello_env` virtualenv. You can now install all the dependencies specified in `requirements.txt` with this command:\n",
    "\n",
    "```\n",
    "pip install -r requirements.txt\n",
    "```\n",
    "\n",
    "This has installed all the dependencies listed in `requirements.txt` (at the moment, just xkcd at version 2.4.2). This means that xkcd library is only available for the virtualenv `my_hello_env`. So don't forget to re-activate your virtualenv (`conda activate ...`) before installing new libs or launching your Python scripts.\n",
    "\n",
    "Now you can start main.py with the following and admire how skilled you just became :-)\n",
    "\n",
    "``` bash\n",
    "python main.py\n",
    "```\n",
    "\n",
    "Remember:\n",
    "``` python\n",
    "#List of your environments\n",
    "conda info --envs\n",
    "#activate an environment\n",
    "conda activate my_hello_env\n",
    "#deactivate an environment\n",
    "conda deactivate\n",
    "```\n",
    "We will use the version <font color='red'>3.6</font> of python until the enf of the course! The requirements.txt file isn't existant for all the labs"
   ]
  },
  {
   "cell_type": "markdown",
   "metadata": {},
   "source": [
    "### How to generate a requirements.txt to be able to share a reproducable virtualenv to other people ?"
   ]
  },
  {
   "cell_type": "markdown",
   "metadata": {},
   "source": [
    "Now imagine you are working on a new project or a lab and you want to make sure that others can reproduce (i.e. reexecute in the same conditions) your work. How would you do that ?\n",
    "\n",
    "Virtualenvs of course ! You need to (1) install your libraries with pip, (2) generate the `requirements.txt` file and (3) send this file alongside your code. (4) ??? (5) Profit\n",
    "\n",
    "1. Let's say you need to have `numpy` (a very useful lib in Python) installed to run your code. Just activate your virtualenv and run `pip install numpy`. This will make `numpy` available in your virtualenv.\n",
    "2. To generate automatically all the libraries (with the exact versions!) you installed with pip, run `pip freeze > requirements.txt`\n",
    "\n",
    "`requirements.txt` will look something like this: \n",
    "\n",
    "```\n",
    "[...]\n",
    "numpy=1.13.0\n",
    "[...]\n",
    "```"
   ]
  },
  {
   "cell_type": "markdown",
   "metadata": {},
   "source": [
    "## Test TREFLE"
   ]
  },
  {
   "cell_type": "markdown",
   "metadata": {},
   "source": [
    "Now, create an environment and test these lines bellow (It is not important what they do, for now). Don't forget the requirements of the labo 000"
   ]
  },
  {
   "cell_type": "code",
   "execution_count": 1,
   "metadata": {},
   "outputs": [],
   "source": [
    "import random\n",
    "import numpy as np\n",
    "\n",
    "from sklearn.datasets import load_breast_cancer\n",
    "from sklearn.metrics import accuracy_score\n",
    "from sklearn.model_selection import train_test_split\n",
    "\n",
    "from trefle.fitness_functions.output_thresholder import round_to_cls\n",
    "from trefle.trefle_classifier import TrefleClassifier"
   ]
  },
  {
   "cell_type": "markdown",
   "metadata": {},
   "source": [
    "### Summary\n",
    "\n",
    "1. When you receive some code or a project\n",
    "    * look for requirements.txt file.\n",
    "    * create a new virtualenv using Anaconda making sure you use the right version of Python with `conda create -n my_virtualenv python=X.Y`\n",
    "    * activate the virtualenv with `conda activate my_virtualenv`\n",
    "    * install the libs listed in `requirements.txt` with `pip install -r requirements.txt`\n",
    "    * run the code\n",
    "2. When you want to send your code/project\n",
    "    * Make sure you are in the virtualenv you create for this project `conda activate my_virtualenv`. If you don't have a virtualenv for this project but already started to code, shame on you, you won a journey to either produce manually the `requirements.txt` file (because `pip freeze` will not give you the minimal list of dependencies to install but all the globally installed libs...) or to create a new virtualenv and install one-by-one the libs required by your project until it starts working as before.\n",
    "    * Generate `requirements.txt` with `pip freeze > requirements.txt`\n",
    "    * Send the `requirements.txt` with your code/project next to it"
   ]
  }
 ],
 "metadata": {
  "kernelspec": {
   "display_name": "Python 3",
   "language": "python",
   "name": "python3"
  },
  "language_info": {
   "codemirror_mode": {
    "name": "ipython",
    "version": 3
   },
   "file_extension": ".py",
   "mimetype": "text/x-python",
   "name": "python",
   "nbconvert_exporter": "python",
   "pygments_lexer": "ipython3",
   "version": "3.6.8"
  }
 },
 "nbformat": 4,
 "nbformat_minor": 2
}
