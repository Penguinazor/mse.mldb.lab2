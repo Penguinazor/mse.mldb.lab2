{
  "nbformat": 4,
  "nbformat_minor": 0,
  "metadata": {
    "colab": {
      "name": "03-Golub.ipynb",
      "version": "0.3.2",
      "provenance": [],
      "collapsed_sections": [],
      "toc_visible": true
    },
    "kernelspec": {
      "display_name": "Python 3",
      "language": "python",
      "name": "python3"
    }
  },
  "cells": [
    {
      "metadata": {
        "id": "ptOA8KLydjsH",
        "colab_type": "text"
      },
      "cell_type": "markdown",
      "source": [
        "# Feature selection lab - Golub\n",
        "Lab developed by Gary Marigliano - 07.2018\n",
        "\n",
        "## Introduction\n",
        "\n",
        "In this notebook, we are going to use the Golub dataset which contains about 7000 features, 72 samples and 2 classes (AML and ALL). \n",
        "\n",
        "The goal is to get lists of relevant features (100 or less) using several FS techniques. The idea is to combine several lists of features to get \"super\" lists that should (maybe) perform better than only one list. To merge the lists you are going to be creative (take the union/intersection between all the lists, use the the feature's importance score as a weight or a probability to select this feature from a list,...).\n",
        "\n",
        "## Rules to build a super list\n",
        "\n",
        "* The super list must contain 100 features or less\n",
        "* You are not forced to use all the lists to build the super list\n",
        "* The super list must not contain duplicate features\n",
        "* The super list must at least use features from 2 different FS techniques\n",
        "\n",
        "You can use some features selection algorithms listed here (the python library should already been installed for this project): http://featureselection.asu.edu/html/skfeature.function.html and http://featureselection.asu.edu/tutorial.php\n",
        "\n",
        "\n",
        "## TODO in this notebook\n",
        "\n",
        "Answer the questions in this notebook (where **TODO student** is written)"
      ]
    },
    {
      "metadata": {
        "id": "T64SPI1cdjsN",
        "colab_type": "code",
        "colab": {}
      },
      "cell_type": "code",
      "source": [
        "import glob\n",
        "import pandas as pd\n",
        "from sklearn import preprocessing"
      ],
      "execution_count": 0,
      "outputs": []
    },
    {
      "metadata": {
        "id": "vY3rA0-1djsc",
        "colab_type": "code",
        "colab": {
          "base_uri": "https://localhost:8080/",
          "height": 35
        },
        "outputId": "33bda248-a305-41a1-bdbb-3a22694b0d20"
      },
      "cell_type": "code",
      "source": [
        "le_classes = preprocessing.LabelEncoder()\n",
        "le_classes.fit([\"AML\", \"ALL\"])"
      ],
      "execution_count": 2,
      "outputs": [
        {
          "output_type": "execute_result",
          "data": {
            "text/plain": [
              "LabelEncoder()"
            ]
          },
          "metadata": {
            "tags": []
          },
          "execution_count": 2
        }
      ]
    },
    {
      "metadata": {
        "id": "5eYgRMo2djsm",
        "colab_type": "code",
        "colab": {}
      },
      "cell_type": "code",
      "source": [
        "def parse_dataset(filenames, le_classes):\n",
        "    df = pd.read_csv(filenames[0], sep=\"\\t\", usecols=[\"ID_REF\", \"VALUE\"]).transpose().drop(\"ID_REF\", axis=0)\n",
        "    df.index = [filenames[0].split(\"/\")[-1]]\n",
        "\n",
        "    for i in range(1, len(filenames)):\n",
        "        df2 = pd.read_csv(filenames[i], sep=\"\\t\", usecols=[\"ID_REF\", \"VALUE\"]).transpose().drop(\"ID_REF\", axis=0)\n",
        "        df2.index = [filenames[i].split(\"/\")[-1]]\n",
        "\n",
        "        df = pd.concat([df, df2])\n",
        "\n",
        "    X = df.values\n",
        "\n",
        "    y = [fname[-7:-4] for fname in df.index.values]\n",
        "    y = le_classes.transform(y)\n",
        "\n",
        "    \n",
        "    return X, y"
      ],
      "execution_count": 0,
      "outputs": []
    },
    {
      "metadata": {
        "id": "Wa2Z7cAedjst",
        "colab_type": "code",
        "colab": {
          "base_uri": "https://localhost:8080/",
          "height": 35
        },
        "outputId": "928a6e5a-da00-4f6a-fdf7-34e41e0b97bd"
      },
      "cell_type": "code",
      "source": [
        "train_filenames = glob.glob(\"./datasets/golub/train/*.csv\")\n",
        "test_filenames = glob.glob(\"./datasets/golub/test/*.csv\")\n",
        "\n",
        "X_train, y_train = parse_dataset(train_filenames, le_classes)\n",
        "X_test, y_test = parse_dataset(test_filenames, le_classes)\n",
        "\n",
        "print(X_train.shape, y_train.shape, X_test.shape, y_test.shape)"
      ],
      "execution_count": 4,
      "outputs": [
        {
          "output_type": "stream",
          "text": [
            "(38, 7129) (38,) (34, 7129) (34,)\n"
          ],
          "name": "stdout"
        }
      ]
    },
    {
      "metadata": {
        "id": "5lCDNzStdjs0",
        "colab_type": "code",
        "colab": {
          "base_uri": "https://localhost:8080/",
          "height": 54
        },
        "outputId": "8ded17ff-997b-4950-fc25-2a7a517c59b6"
      },
      "cell_type": "code",
      "source": [
        "df = pd.read_csv(train_filenames[0], sep=\"\\t\", usecols=[\"ID_REF\", \"VALUE\"]).transpose().drop(\"VALUE\", axis=0)\n",
        "features_name = df.values[0]\n",
        "print(features_name)"
      ],
      "execution_count": 5,
      "outputs": [
        {
          "output_type": "stream",
          "text": [
            "['AFFX-BioB-5_at' 'AFFX-BioB-M_at' 'AFFX-BioB-3_at' ..., 'L49218_f_at'\n",
            " 'M71243_f_at' 'Z78285_f_at']\n"
          ],
          "name": "stdout"
        }
      ]
    },
    {
      "metadata": {
        "id": "GFLqUkLzdjs_",
        "colab_type": "text"
      },
      "cell_type": "markdown",
      "source": [
        "**TODO student**\n",
        "\n",
        "* Get 3 super lists using at least 2 different FS techniques. This is an example to build a super list:\n",
        "    * FS techniques: ExtraTrees + Fisher score; Merge technique: intersection of the lists\n",
        "    * FS techniques: Recursive Feature Elimination SVM + ANN + MRMR: pick K features with a probability based on the feature importance's score\n",
        "* For each super list:\n",
        "    * Get the `evaluate_features()` function you wrote in 02-WDBC\n",
        "    * Use this function with the super list\n",
        "    * Use this function with a random list of selected features (same size as the super list)\n",
        "    * Use this function with all the features\n",
        "    * Make a plot similar to the one just below (see https://matplotlib.org/examples/api/barchart_demo.html)\n",
        "    * Comment the results. Here are some clues about the questions you should ask yourself:\n",
        "        * How the scores of the lists of selected features behave compare to the random/all features ?\n",
        "        * How behave the classifiers inside `evaluate_features()` ? Do they prefer a list in general ?\n",
        "        \n",
        "* You may be careful to the following points:\n",
        "   * the classifiers you use may not be determinist therefore you may want to run them multiple time to have an averaged score\n",
        "   * try to choose classifiers that are relatively different regarding how they use the data. Using 3 classifiers that are tree-based is not the best idea you can have\n",
        "   * try to choose classifiers that you didn't use to get the lists of features in the first place\n",
        "\n",
        "* Comment your results. Here are some clues about the questions you should ask yourself:\n",
        "    * What kind of problems could you encounter when merging the lists ?\n",
        "    * Do the super lists that use more lists perform better ?\n",
        "    * What about the execution time ?"
      ]
    },
    {
      "metadata": {
        "id": "vJBZQraqdjtC",
        "colab_type": "text"
      },
      "cell_type": "markdown",
      "source": [
        "<img src=\"assets/02-WDBC-perf-plot.png\" />"
      ]
    },
    {
      "metadata": {
        "id": "PepuUljvdjtF",
        "colab_type": "code",
        "colab": {
          "base_uri": "https://localhost:8080/",
          "height": 35
        },
        "outputId": "ad70b1f9-5820-4889-8460-163a8a5e51ea"
      },
      "cell_type": "code",
      "source": [
        "from sklearn.ensemble import ExtraTreesClassifier\n",
        "from skfeature.function.similarity_based import fisher_score\n",
        "from skfeature.function.statistical_based import f_score\n",
        "from skfeature.function.statistical_based import t_score\n",
        "\n",
        "\n",
        "import numpy as np\n",
        "\n",
        "## First list\n",
        "\n",
        "# train\n",
        "clf = ExtraTreesClassifier(n_jobs=2, n_estimators=100)\n",
        "clf.fit(X_train, y_train)\n",
        "importances = clf.feature_importances_\n",
        "n = len(importances)\n",
        "\n",
        "# get best 100 features from ExtraTrees\n",
        "sorted_x = np.argsort(-importances)\n",
        "sorted_x = sorted_x[:100]\n",
        "\n",
        "# get best 100 features from Fischer score\n",
        "score_fisher = fisher_score.fisher_score(X_train, y_train)\n",
        "idx_fisher = fisher_score.feature_ranking(score_fisher)\n",
        "idx_fisher = idx_fisher[:100]\n",
        "\n",
        "# Merge using intersection\n",
        "merged_list1 = np.intersect1d(sorted_x, idx_fisher)\n",
        "print(merged_list1.shape)\n",
        "\n",
        "\n"
      ],
      "execution_count": 38,
      "outputs": [
        {
          "output_type": "stream",
          "text": [
            "(29,)\n"
          ],
          "name": "stdout"
        }
      ]
    },
    {
      "metadata": {
        "id": "YSwDeOzWg-Mj",
        "colab_type": "code",
        "colab": {
          "base_uri": "https://localhost:8080/",
          "height": 35
        },
        "outputId": "5ea8d3e9-82cb-4aca-c0c8-fb0805432794"
      },
      "cell_type": "code",
      "source": [
        "## Second list\n",
        "# Same as first list with F-score instead of Fischer\n",
        "\n",
        "# train\n",
        "clf = ExtraTreesClassifier(n_jobs=2, n_estimators=100)\n",
        "clf.fit(X_train, y_train)\n",
        "importances = clf.feature_importances_\n",
        "\n",
        "# get best 100 features from ExtraTrees\n",
        "sorted_x = np.argsort(-importances)\n",
        "sorted_x = sorted_x[:100]\n",
        "\n",
        "\n",
        "# get best 100 features from F-score\n",
        "score_f = f_score.f_score(X_train, y_train)\n",
        "idx_f = f_score.feature_ranking(score_f)\n",
        "idx_f = idx_f[:100]\n",
        "\n",
        "merged_list2 = np.intersect1d(sorted_x, idx_f)\n",
        "print(merged_list2.shape)"
      ],
      "execution_count": 39,
      "outputs": [
        {
          "output_type": "stream",
          "text": [
            "(29,)\n"
          ],
          "name": "stdout"
        }
      ]
    },
    {
      "metadata": {
        "id": "d1tMnYipfLHw",
        "colab_type": "code",
        "colab": {
          "base_uri": "https://localhost:8080/",
          "height": 35
        },
        "outputId": "a53f9f06-de63-4338-ef9f-c8c23ceb935a"
      },
      "cell_type": "code",
      "source": [
        "## Third list\n",
        "# get top 20 features of all three metrics from Part 2 as well as Extratrees. Concatenate and remove duplicates.\n",
        "\n",
        "# train\n",
        "clf = ExtraTreesClassifier(n_jobs=2, n_estimators=100)\n",
        "clf.fit(X_train, y_train)\n",
        "importances = clf.feature_importances_\n",
        "\n",
        "# get best 20 features from ExtraTrees\n",
        "sorted_x = np.argsort(-importances)\n",
        "sorted_x = sorted_x[:20]\n",
        "sorted_x.ravel()\n",
        "\n",
        "# get best 20 features from Fischer score\n",
        "score_fisher = fisher_score.fisher_score(X_train, y_train)\n",
        "idx_fisher = fisher_score.feature_ranking(score_fisher)\n",
        "idx_fisher = idx_fisher[:20]\n",
        "\n",
        "# get best 20 features from F-score\n",
        "score_f = f_score.f_score(X_train, y_train)\n",
        "idx_f = f_score.feature_ranking(score_f)\n",
        "idx_f = idx_f[:20]\n",
        "\n",
        "# get best 20 features from T-score\n",
        "score_t_score = t_score.t_score(X_train, y_train)\n",
        "idx_t_score = t_score.feature_ranking(score_t_score)\n",
        "idx_t_score = idx_t_score[:20]\n",
        "\n",
        "\n",
        "merged_list3 = np.concatenate((sorted_x, idx_fisher))\n",
        "temp = np.concatenate((idx_f, idx_t_score))\n",
        "merged_list3 = np.unique(np.concatenate((merged_list3, temp)))\n",
        "print(merged_list3.shape)"
      ],
      "execution_count": 40,
      "outputs": [
        {
          "output_type": "stream",
          "text": [
            "(45,)\n"
          ],
          "name": "stdout"
        }
      ]
    },
    {
      "metadata": {
        "id": "paMdLFEtiTGX",
        "colab_type": "code",
        "colab": {}
      },
      "cell_type": "code",
      "source": [
        "import matplotlib.pyplot as plt\n",
        "\n",
        "def autolabel(rects, ax):\n",
        "    for rect in rects:\n",
        "        height = rect.get_height()\n",
        "        ax.text(rect.get_x() + rect.get_width()/4., 1.05*height,\n",
        "                '%d' % int(height),\n",
        "                ha='center', va='bottom')\n",
        "            \n",
        "def find_a_way_to_show_these_scores_nicely(index, score_clf_1, score_clf_2, score_clf_3): \n",
        "    N_features = 3\n",
        "    score_clf_1_mean = score_clf_1[0]\n",
        "    score_clf_1_std = score_clf_1[1]\n",
        "    \n",
        "    score_clf_2_mean = score_clf_2[0]\n",
        "    score_clf_2_std = score_clf_2[1]\n",
        "    \n",
        "    score_clf_3_mean = score_clf_3[0]\n",
        "    score_clf_3_std = score_clf_3[1]\n",
        "\n",
        "    ind = np.arange(N_features)  # the x locations for the groups\n",
        "    width = 0.20       # the width of the bars\n",
        "\n",
        "    fig, ax = plt.subplots(figsize=(15,5))\n",
        "    rects1 = ax.bar(ind, score_clf_1_mean, width, color='b', yerr=score_clf_1_std)\n",
        "    rects2 = ax.bar(ind + width, score_clf_2_mean, width, color='orange', yerr=score_clf_2_std)\n",
        "    rects3 = ax.bar(ind + 2*width, score_clf_3_mean, width, color='g', yerr=score_clf_3_std)\n",
        "\n",
        "\n",
        "    # add some text for labels, title and axes ticks\n",
        "    ax.set_ylabel('Scores')\n",
        "    ax.set_title('Scores by classifiers and by lists of '+str(len(index))+' features')\n",
        "    ax.set_xticks(ind + width)\n",
        "    ax.set_xticklabels(('Selected Features','Random Features','All Features'))\n",
        "\n",
        "    ax.legend((rects1[0], rects2[0], rects3[0]), ('KNN', 'LinearSVC','MLP'),loc='upper left')\n",
        "\n",
        "    autolabel(rects1,ax)\n",
        "    autolabel(rects2,ax)\n",
        "    autolabel(rects3,ax)\n",
        "\n",
        "    plt.show()\n",
        "    \n",
        "def evaluate_features(features):\n",
        "    score_clf_1 = compute_score_using_classifier_1(features)\n",
        "    score_clf_2 = compute_score_using_classifier_2(features)\n",
        "    score_clf_3 = compute_score_using_classifier_3(features)\n",
        "    # ....\n",
        "    return find_a_way_to_show_these_scores_nicely(features,score_clf_1, score_clf_2, score_clf_3)\n",
        "\n",
        "def compute_score_using_classifier_1(features):\n",
        "    # KNN\n",
        "    from sklearn.neighbors import KNeighborsClassifier\n",
        "    from sklearn.metrics import accuracy_score\n",
        "    \n",
        "    selected_features_train = X_train[:, features]\n",
        "    selected_features_test = X_test[:, features]\n",
        "    \n",
        "    select_acc_list_1 = []\n",
        "    runs = 5\n",
        "    for i in range(runs):\n",
        "        knn = KNeighborsClassifier(n_neighbors=i+1)\n",
        "        knn.fit(selected_features_train, y_train)\n",
        "        y_predict = knn.predict(selected_features_test)\n",
        "        acc = accuracy_score(y_test, y_predict)\n",
        "        #print(acc)\n",
        "        select_acc_list_1.append(acc)\n",
        "        \n",
        "    from random import randint\n",
        "    random_features_list = []\n",
        "    for i in range(len(features)):\n",
        "        random_features_list.append(randint(0, X_train.shape[1]-1))\n",
        "    random_features_train = X_train[:, random_features_list]\n",
        "    random_features_test = X_test[:, random_features_list]\n",
        "    \n",
        "    rnd_acc_list_1 = []\n",
        "    runs = 5\n",
        "    for i in range(runs):\n",
        "        knn = KNeighborsClassifier(n_neighbors=i+1)\n",
        "        knn.fit(random_features_train, y_train)\n",
        "        y_predict = knn.predict(random_features_test)\n",
        "        acc = accuracy_score(y_test, y_predict)\n",
        "        rnd_acc_list_1.append(acc)\n",
        "        \n",
        "    all_acc_list_1 = []\n",
        "    runs = 5\n",
        "    for i in range(runs):\n",
        "        knn = KNeighborsClassifier(n_neighbors=i+1)\n",
        "        knn.fit(X_train, y_train)\n",
        "        y_predict = knn.predict(X_test)\n",
        "        acc = accuracy_score(y_test, y_predict)\n",
        "        all_acc_list_1.append(acc)\n",
        "    \n",
        "    \n",
        "    return ([np.mean(select_acc_list_1),np.mean(rnd_acc_list_1),np.mean(all_acc_list_1)], [np.std(select_acc_list_1),np.std(rnd_acc_list_1),np.std(all_acc_list_1)])\n",
        "\n",
        "def compute_score_using_classifier_2(features):\n",
        "    # LinearSVC\n",
        "    from sklearn import svm\n",
        "    clf = svm.LinearSVC()\n",
        "    from sklearn.metrics import accuracy_score\n",
        "    \n",
        "    selected_features_train = X_train[:, features]\n",
        "    selected_features_test = X_test[:, features]\n",
        "    \n",
        "    select_acc_list_2 = []\n",
        "    runs = 5\n",
        "    for i in range(runs):\n",
        "        clf.fit(selected_features_train, y_train)\n",
        "        y_predict = clf.predict(selected_features_test)\n",
        "        acc = accuracy_score(y_test, y_predict)\n",
        "        select_acc_list_2.append(acc)\n",
        "        \n",
        "    from random import randint\n",
        "    random_features_list = []\n",
        "    for i in range(len(features)):\n",
        "        random_features_list.append(randint(0, X_train.shape[1]-1))\n",
        "    random_features_train = X_train[:, random_features_list]\n",
        "    random_features_test = X_test[:, random_features_list]\n",
        "    \n",
        "    rnd_acc_list_2 = []\n",
        "    runs = 5\n",
        "    for i in range(runs):\n",
        "        clf.fit(random_features_train, y_train)\n",
        "        y_predict = clf.predict(random_features_test)\n",
        "        acc = accuracy_score(y_test, y_predict)\n",
        "        rnd_acc_list_2.append(acc)\n",
        "        \n",
        "    all_acc_list_2 = []\n",
        "    runs = 5\n",
        "    for i in range(runs):\n",
        "        clf.fit(X_train, y_train)\n",
        "        y_predict = clf.predict(X_test)\n",
        "        acc = accuracy_score(y_test, y_predict)\n",
        "        all_acc_list_2.append(acc)\n",
        "    \n",
        "    return ([np.mean(select_acc_list_2),np.mean(rnd_acc_list_2),np.mean(all_acc_list_2)], [np.std(select_acc_list_2),np.std(rnd_acc_list_2),np.std(all_acc_list_2)])\n",
        "\n",
        "def compute_score_using_classifier_3(features):\n",
        "    # MLP\n",
        "    from sklearn.preprocessing import StandardScaler\n",
        "    \n",
        "    selected_features_train = X_train[:, features]\n",
        "    selected_features_test = X_test[:, features]\n",
        "    \n",
        "    scaler = StandardScaler()  \n",
        "    scaler.fit(selected_features_train)\n",
        "\n",
        "    selected_features_train = scaler.transform(selected_features_train)  \n",
        "    selected_features_test = scaler.transform(selected_features_test)\n",
        "    \n",
        "    from sklearn.neural_network import MLPClassifier\n",
        "    from sklearn.metrics import accuracy_score\n",
        "    select_acc_list_3 = []\n",
        "    runs = 5\n",
        "    for i in range(runs):\n",
        "        mlp = MLPClassifier(hidden_layer_sizes=(10, 10, 10), max_iter=1000)  \n",
        "        mlp.fit(selected_features_train, y_train)\n",
        "        y_predict = mlp.predict(selected_features_test)\n",
        "        acc = accuracy_score(y_test, y_predict)\n",
        "        select_acc_list_3.append(acc) \n",
        "        \n",
        "    from random import randint\n",
        "    random_features_list = []\n",
        "    for i in range(len(features)):\n",
        "        random_features_list.append(randint(0, X_train.shape[1]-1))\n",
        "    random_features_train = X_train[:, random_features_list]\n",
        "    random_features_test = X_test[:, random_features_list]\n",
        "\n",
        "    scaler = StandardScaler()  \n",
        "    scaler.fit(random_features_train)\n",
        "    random_features_train = scaler.transform(selected_features_train)  \n",
        "    random_features_test = scaler.transform(selected_features_test)\n",
        "    \n",
        "    rdn_acc_list_3 = []\n",
        "    runs = 5\n",
        "    for i in range(runs):\n",
        "        mlp = MLPClassifier(hidden_layer_sizes=(10, 10, 10), max_iter=1000)  \n",
        "        mlp.fit(random_features_train, y_train)\n",
        "        y_predict = mlp.predict(random_features_test)\n",
        "        acc = accuracy_score(y_test, y_predict)\n",
        "        rdn_acc_list_3.append(acc)\n",
        "    \n",
        "    scaler = StandardScaler()  \n",
        "    scaler.fit(X_train)\n",
        "    all_features_train = scaler.transform(X_train)  \n",
        "    all_features_test = scaler.transform(X_test)\n",
        "    \n",
        "    all_acc_list_3 = []\n",
        "    runs = 5\n",
        "    for i in range(runs):\n",
        "        mlp = MLPClassifier(hidden_layer_sizes=(10, 10, 10), max_iter=1000)  \n",
        "        mlp.fit(all_features_train, y_train)\n",
        "        y_predict = mlp.predict(all_features_test)\n",
        "        acc = accuracy_score(y_test, y_predict)\n",
        "        all_acc_list_3.append(acc) \n",
        "    \n",
        "    return ([np.mean(select_acc_list_3),np.mean(rdn_acc_list_3),np.mean(all_acc_list_3)], [np.std(select_acc_list_3),np.std(rdn_acc_list_3),np.std(all_acc_list_3)])"
      ],
      "execution_count": 0,
      "outputs": []
    },
    {
      "metadata": {
        "id": "NZ8IL3LMkS8R",
        "colab_type": "code",
        "colab": {
          "base_uri": "https://localhost:8080/",
          "height": 392
        },
        "outputId": "dd1668f3-3d69-414f-8ff6-515729694989"
      },
      "cell_type": "code",
      "source": [
        "## First list evaluation\n",
        "evaluate_features(merged_list1)\n"
      ],
      "execution_count": 49,
      "outputs": [
        {
          "output_type": "stream",
          "text": [
            "/usr/local/lib/python3.6/dist-packages/sklearn/utils/validation.py:429: DataConversionWarning: Data with input dtype object was converted to float64 by StandardScaler.\n",
            "  warnings.warn(msg, _DataConversionWarning)\n"
          ],
          "name": "stderr"
        },
        {
          "output_type": "display_data",
          "data": {
            "image/png": "[encoded data removed]",
            "text/plain": [
              "<matplotlib.figure.Figure at 0x7f73cf951128>"
            ]
          },
          "metadata": {
            "tags": []
          }
        }
      ]
    },
    {
      "metadata": {
        "id": "xdiuwKZNkaZG",
        "colab_type": "code",
        "colab": {
          "base_uri": "https://localhost:8080/",
          "height": 392
        },
        "outputId": "91487cd4-d0ce-4407-e7ba-fcf0639c4c13"
      },
      "cell_type": "code",
      "source": [
        "## Second list evaluation\n",
        "evaluate_features(merged_list2)\n"
      ],
      "execution_count": 50,
      "outputs": [
        {
          "output_type": "stream",
          "text": [
            "/usr/local/lib/python3.6/dist-packages/sklearn/utils/validation.py:429: DataConversionWarning: Data with input dtype object was converted to float64 by StandardScaler.\n",
            "  warnings.warn(msg, _DataConversionWarning)\n"
          ],
          "name": "stderr"
        },
        {
          "output_type": "display_data",
          "data": {
            "image/png": "[encoded data removed]",
            "text/plain": [
              "<matplotlib.figure.Figure at 0x7f73ce84fda0>"
            ]
          },
          "metadata": {
            "tags": []
          }
        }
      ]
    },
    {
      "metadata": {
        "id": "FBNLqrAlnEpK",
        "colab_type": "code",
        "colab": {
          "base_uri": "https://localhost:8080/",
          "height": 392
        },
        "outputId": "bb0a47a4-fff8-41ce-a7ae-b4e8a0e75062"
      },
      "cell_type": "code",
      "source": [
        "## Third list evaluation\n",
        "evaluate_features(merged_list3)\n"
      ],
      "execution_count": 51,
      "outputs": [
        {
          "output_type": "stream",
          "text": [
            "/usr/local/lib/python3.6/dist-packages/sklearn/utils/validation.py:429: DataConversionWarning: Data with input dtype object was converted to float64 by StandardScaler.\n",
            "  warnings.warn(msg, _DataConversionWarning)\n"
          ],
          "name": "stderr"
        },
        {
          "output_type": "display_data",
          "data": {
            "image/png": "[encoded data removed]",
            "text/plain": [
              "<matplotlib.figure.Figure at 0x7f73d037fba8>"
            ]
          },
          "metadata": {
            "tags": []
          }
        }
      ]
    },
    {
      "metadata": {
        "id": "0Sg8iTidnvHH",
        "colab_type": "text"
      },
      "cell_type": "markdown",
      "source": [
        "## List comments\n",
        "\n",
        "For the first super list, the results using selected features are close to the results using all features. This means we managed to select meaningful features using our method, which accurately represent results using all features. However, since performance is not strictly better than when using all features, we did not manage to remove noise using this list.\n",
        "\n",
        "For the second super list, performance is better for KNN and MLP classifiers when using selected features. While this is not the case for the LinearSVC, \n",
        "\n",
        "For the third super list, the classifier results using the selected features has the highest accuracy of all, and this for each one of the three classifiers. We successfully managed to reduce noise using this list since our performance is superior to the \"all features\" results.\n",
        "\n",
        "For all three lists, the random results are similiar, since no large differences in size appear in our superlists (30-40 elements on average depending on execution).\n",
        "\n",
        "The major difference between classifiers is that LinearSVC usually beforms better on random and All features, however the gap closes a lot when using selected features. Since Support Vector Machines perform dimentionality reduction, they are very effective in high dimentional space. This explains their much better performance than our other two classifiers in All feature categories.\n",
        "\n",
        "## Method comments\n",
        "\n",
        "### What kind of problems could you encounter when merging the lists ?\n",
        "When calculating the intersection of lists using intersect1d, the resulting array is sorted and therefore we cannot intersect very large lists then take the first 100 as our super list. We therefore have to limit each list to size 100 and we get a much smaller list after intersecting.\n",
        "\n",
        "The problem of repeat features when concatenating in the third list was solved simply by removing duplicates, however this reduces the size of the list depending on how many features are ranked the best by multiple scorers.\n",
        "\n",
        "A final problem we might face is simply the list being too small: each execution giving different results, we could have a list as small as 20 features for the final list if each scorer gives the same 20 features as output. Since we are imposed a maximum of 100 features in this exercise, we have to use methods that cannot give more features than that.\n",
        "    \n",
        "### Do the super lists that use more lists perform better ?\n",
        "Yes, our final super list which combines four different lists has the best performance. Since it uses the best features from each list, we end up with the most important features that each feature selection method can detect. After removing duplicates, this results in a \"best overall\" selection of features.\n",
        "\n",
        "### What about the execution time ?\n",
        "None of our super lists took longer than a few milliseconds, however they all used similar selection methods. We did not use any very computationaly intensive methods and thus cannot rank the methods by their performance/calculation time.\n",
        "\n"
      ]
    },
    {
      "metadata": {
        "id": "p4pzFvBcnyY5",
        "colab_type": "code",
        "colab": {}
      },
      "cell_type": "code",
      "source": [
        ""
      ],
      "execution_count": 0,
      "outputs": []
    }
  ]
}