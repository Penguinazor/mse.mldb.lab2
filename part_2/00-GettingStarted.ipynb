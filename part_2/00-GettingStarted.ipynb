{
 "cells": [
  {
   "cell_type": "markdown",
   "metadata": {},
   "source": [
    "# MLBD - Feature selection lab\n",
    "July 2017, version 001 - Gary Marigliano <br>\n",
    "March 2019, version 002 - Diogo Leite"
   ]
  },
  {
   "cell_type": "markdown",
   "metadata": {},
   "source": [
    "References: \n",
    "* Relevance Metrics to Reduce Input Dimensions in Artificial Neural Network, by Héctor F. Satizábal M. and Andres Pérez-Uribe\n",
    "* Datasets: https://archive.ics.uci.edu/ml/index.php\n",
    "* sklearn: http://featureselection.asu.edu/"
   ]
  },
  {
   "cell_type": "markdown",
   "metadata": {},
   "source": [
    "## Getting started\n",
    "\n",
    "This procedure has been tested on Ubuntu 16.04 (and 18.04) 64 bits. You may adapt certain commands for your system. Otherwise, install an Ubuntu 16.04 64 bits virtual machine.\n",
    "\n",
    "We are going to install the requirements for this lab. First we need to setup a Python virtual environment which allows us to isolate the installation of the Python libraries for our lab only and not interfering with the ones that are globally installed on the system. Therefore, it ensures that all of the people that use this lab have the same versions installed\n",
    "\n",
    "\n",
    "### Create an environement with miniconda\n",
    "For this part of the course, we continue to use miniconda environment. So, for both labs you need to create an miniconda environment with python 3.6 and import the libraries in requirement file.\n",
    "#### Create an environment\n",
    "```bash\n",
    "conda create --name xxx python=3.6\n",
    "conda activate xxx\n",
    "pip install -r requirements.txt\n",
    "```\n",
    "\n",
    "### How to submit your lab\n",
    "Export all the notebooks in HTML (in the case your lab could not be reproduced for any reason) + zip of your lab folder without the datasets folder. If your lab requires additional dependencies, please add a INSTRUCTIONS.md file in your folder with the instructions to install them. Don't forget to add the additional dependencies at the end of your requirements.txt file (or do a pip freeze > requirements_personal.txt command).\n",
    "\n",
    "\n"
   ]
  },
  {
   "cell_type": "code",
   "execution_count": null,
   "metadata": {
    "collapsed": true
   },
   "outputs": [],
   "source": []
  }
 ],
 "metadata": {
  "kernelspec": {
   "display_name": "Python 3",
   "language": "python",
   "name": "python3"
  },
  "language_info": {
   "codemirror_mode": {
    "name": "ipython",
    "version": 3
   },
   "file_extension": ".py",
   "mimetype": "text/x-python",
   "name": "python",
   "nbconvert_exporter": "python",
   "pygments_lexer": "ipython3",
   "version": "3.6.8"
  }
 },
 "nbformat": 4,
 "nbformat_minor": 2
}
