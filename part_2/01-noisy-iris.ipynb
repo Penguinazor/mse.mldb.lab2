{
 "cells": [
  {
   "cell_type": "markdown",
   "metadata": {},
   "source": [
    "# Feature selection lab - Noisy Iris\n",
    "Lab developed by Gary Marigliano - 07.2018\n",
    "\n",
    "## Introduction\n",
    "\n",
    "In this notebook, the [famous iris](https://en.wikipedia.org/wiki/Iris_flower_data_set) dataset has been modified to insert noisy features. The goal is to retrieve the 4 original features (sepal length/width and petal length/width) using features selection techniques.\n",
    "\n",
    "You can use some features selection algorithms listed here (the python library should already been installed for this project): http://featureselection.asu.edu/html/skfeature.function.html and http://featureselection.asu.edu/tutorial.php\n",
    "\n",
    "## TODO in this notebook\n",
    "\n",
    "Answer the questions in this notebook (where **TODO student** is written)"
   ]
  },
  {
   "cell_type": "markdown",
   "metadata": {},
   "source": [
    "## Setup the Iris dataset"
   ]
  },
  {
   "cell_type": "code",
   "execution_count": 1,
   "metadata": {},
   "outputs": [],
   "source": [
    "import numpy as np\n",
    "from matplotlib import pyplot as plt\n",
    "%matplotlib inline"
   ]
  },
  {
   "cell_type": "markdown",
   "metadata": {},
   "source": [
    "Below the dataset is modified to create new noisy features to the iris dataset."
   ]
  },
  {
   "cell_type": "code",
   "execution_count": 2,
   "metadata": {},
   "outputs": [
    {
     "name": "stdout",
     "output_type": "stream",
     "text": [
      "[[ 5.1         3.5         1.4         0.2        12.          3.93886819\n",
      "   2.6751712   2.29521156  5.08555339  3.62576666  1.17712453  2.00624453\n",
      "   4.13835937  2.66670616  4.42370643  5.68766774  4.43684559  7.67977754\n",
      "   0.88314978  6.0626816   6.61289954  2.066496  ]\n",
      " [ 4.9         3.          1.4         0.2        12.          3.43886819\n",
      "   2.1751712   1.79521156  4.58555339  3.12576666  0.67712453  1.50624453\n",
      "   3.63835937  2.16670616  3.92370643  5.18766774  3.93684559  7.17977754\n",
      "   0.38314978  5.5626816   6.11289954  1.566496  ]\n",
      " [ 4.7         3.2         1.3         0.2        12.          3.63886819\n",
      "   2.3751712   1.99521156  4.78555339  3.32576666  0.87712453  1.70624453\n",
      "   3.83835937  2.36670616  4.12370643  5.38766774  4.13684559  7.37977754\n",
      "   0.58314978  5.7626816   6.31289954  1.766496  ]]\n"
     ]
    }
   ],
   "source": [
    "from sklearn import datasets\n",
    "\n",
    "iris = datasets.load_iris()\n",
    "\n",
    "X = iris.data\n",
    "y = iris.target\n",
    "\n",
    "## Add some noisy features in the iris dataset\n",
    "\n",
    "# Add a feature that is always equals to a constant independently of the output --> useless feature\n",
    "constant_features = np.array([[12 for _ in range(X.shape[0])]]).transpose()\n",
    "X = np.append(X, constant_features, axis=1)\n",
    "\n",
    "# Add random noisy features. \n",
    "# These features are created using the first feature values with a more or less important noise level\n",
    "noise_levels = np.arange(1, 6, 0.3)\n",
    "first_feat = X[:, 1]\n",
    "\n",
    "n_samples = X.shape[0]\n",
    "for k in noise_levels:\n",
    "    noise = k*(np.random.rand() * 2 - 1)\n",
    "    noisy_features = [noise + first_feat[x] for x in range(n_samples)]\n",
    "    noisy_features = np.array([noisy_features]).transpose()\n",
    "    X = np.append(X, noisy_features, axis=1)\n",
    "\n",
    "# Here we can see that the 5th column is always equals to 12. The colunms after it are the noisy features.\n",
    "print(X[:3, :])"
   ]
  },
  {
   "cell_type": "markdown",
   "metadata": {},
   "source": [
    "Next, we start selecting relevant features. To do that, we prepare the data to be \"machine learning ready\".\n",
    "\n",
    "This means that we need to split the data into a train set and a test set.\n"
   ]
  },
  {
   "cell_type": "code",
   "execution_count": 3,
   "metadata": {},
   "outputs": [],
   "source": [
    "from sklearn.model_selection import train_test_split\n",
    "\n",
    "X_train, X_test, y_train, y_test = train_test_split(X, y, test_size=0.33)"
   ]
  },
  {
   "cell_type": "markdown",
   "metadata": {},
   "source": [
    "For this first notebook, the example below shows how to train and get the features sorted by decreasing importance."
   ]
  },
  {
   "cell_type": "code",
   "execution_count": 83,
   "metadata": {},
   "outputs": [
    {
     "name": "stdout",
     "output_type": "stream",
     "text": [
      "score 0.840\n"
     ]
    }
   ],
   "source": [
    "from sklearn.ensemble import ExtraTreesClassifier\n",
    "\n",
    "# train\n",
    "clf = ExtraTreesClassifier(n_jobs=2, n_estimators=10)\n",
    "clf.fit(X_train, y_train)\n",
    "\n",
    "# get the score\n",
    "score = clf.score(X_test, y_test)\n",
    "print(\"score {:.3f}\".format(score))\n",
    "\n",
    "# rank the features\n",
    "importances = clf.feature_importances_\n",
    "\n",
    "indices = np.argsort(importances)[::-1]\n",
    "\n",
    "n_features = X_train.shape[1]\n",
    "\n",
    "# get the features sorted by decreasing importance\n",
    "feat_importances_sorted = [(indices[f], importances[indices[f]]) for f in range(n_features)]"
   ]
  },
  {
   "cell_type": "markdown",
   "metadata": {},
   "source": [
    "**TODO student**: \n",
    "* Plot the features importances with a bar chart (see picture below)\n",
    "* Comment the plot you just made. Here are some clues about the questions you should ask yourself:\n",
    "   * What this plot represents ?\n",
    "   * How do you compare two features using this graph ?\n",
    "   * How would you choose a \"good\" number of good features ?\n",
    "   * How can you be sure that the features you select are relevant ? What kind of tasks should you do ?\n",
    "   * How could you prove it ?\n",
    "   * For this modified dataset, is it really useful to reduce the number of features ?\n",
    "   * How easy/hard it is to retrieve the original features ?"
   ]
  },
  {
   "cell_type": "markdown",
   "metadata": {},
   "source": [
    "<img src=\"assets/01-noisy-iris-feat-importances-example.png\" />"
   ]
  },
  {
   "cell_type": "code",
   "execution_count": 77,
   "metadata": {},
   "outputs": [
    {
     "data": {
      "image/png": "[encoded data removed]",
      "text/plain": [
       "<Figure size 720x360 with 1 Axes>"
      ]
     },
     "metadata": {},
     "output_type": "display_data"
    }
   ],
   "source": [
    "fig, ax = plt.subplots(figsize=(10,5))\n",
    "\n",
    "sorted_x = np.argsort(-importances)\n",
    "sorted_y = sorted(importances, reverse=True)\n",
    "labels = list(map(lambda x : 'Feat. {}'.format(x), sorted_x))\n",
    "\n",
    "ax.set_xlabel('Features')\n",
    "ax.set_ylabel('Score')\n",
    "ax.set_title('Scores per features')\n",
    "ax.get_xaxis().set_visible(False)\n",
    "# We hide the X axis since we provided dummy values to prevent automatic sorting\n",
    "rects = ax.patches\n",
    "\n",
    "ax.bar(np.arange(0, len(importances)), sorted_y, 0.8)\n",
    "ax.set_xticklabels(sorted_x)\n",
    "\n",
    "for rect, label in zip(rects, labels):\n",
    "    height = rect.get_height()\n",
    "    ax.text(rect.get_x() + rect.get_width() / 2, height+0.01, label,\n",
    "            ha='center', va='bottom', rotation = 90)\n"
   ]
  },
  {
   "cell_type": "markdown",
   "metadata": {},
   "source": [
    " ## Comments\n",
    " This plot represents the \"importance\" of each feature, meaning how much each feature contributed to the classification of each sample. For example, our uniform feature that is always equal to 12 (Feature 4) has an importance of 0.0, since it does not contribute in any way to the classification. Feature 2 on the other hand was the most important in classifying data.\n",
    " \n",
    "In our case, we have 3 clear \"good\" geatures, that have a high impact on the classification. The remaining features still have an impact, however for the features we added with a random number generator this means that the features are not actually contributing to the classification, they are merely adapting to random noise. By reducing the number of features, we can eliminate these \"bad\" features and keep only a few.\n",
    "\n",
    "For this small dataset, reducing the number of features is not important since the calculation time is too small to be impactful. Even if a feature only contributes a fraction of a percent to the classification, there is a net gain since calculation time is not noticable. This only applies if the feature is actually contributing to the classification and is not based on random noise. On larger datasets however, excessive features will slow down the process and feature selection is practically mandatory. \n",
    "\n",
    "\n",
    "\n",
    " * What this plot represents ?\n",
    "   * How do you compare two features using this graph ?\n",
    "   * How would you choose a \"good\" number of good features ?\n",
    "   * How can you be sure that the features you select are relevant ? What kind of tasks should you do ?\n",
    "   * How could you prove it ?\n",
    "   * For this modified dataset, is it really useful to reduce the number of features ?\n",
    "   * How easy/hard it is to retrieve the original features ?"
   ]
  },
  {
   "cell_type": "markdown",
   "metadata": {},
   "source": [
    "## Assessing the relevance of the features' score\n",
    "\n",
    "Now that we have the features sorted by decreasing importances, your task is to choose which ones to keep.\n",
    "\n",
    "**TODO student**:\n",
    "\n",
    "* Choose N features that you find relevant\n",
    "* Justify the N number you chose\n",
    "* Compare, using a confusion matrix or an other relevant score metric, the classifier performance between:\n",
    "    * your selected features and the noisy iris dataset \n",
    "    * your selected features and some N random features (take the average score of K runs for the random features)\n",
    "    * your selected features and the worse N features (look at your feature importance plot)\n",
    "* Comment the obtained results. Here are some clues about the questions you should ask yourself:\n",
    "    * Among the features you select how many are the original features ?\n",
    "    * Is the useless feature (the one that always contains the same value) selected ?\n",
    "    \n",
    "To plot a prettier confusion matrix you can use this class:\n",
    "\n",
    "``` python\n",
    "from ConfusionMatrix import ConfusionMatrix\n",
    "y_pred = clf.predict(X_test_random)\n",
    "cm = confusion_matrix(y_test, y_pred)\n",
    "n_classes = len(np.unique(y))\n",
    "ConfusionMatrix.plot(cm, classes=range(n_classes), title=\"Confusion Matrix\")\n",
    "```"
   ]
  },
  {
   "cell_type": "code",
   "execution_count": 110,
   "metadata": {},
   "outputs": [
    {
     "name": "stdout",
     "output_type": "stream",
     "text": [
      "(150, 3)\n",
      "score 0.920\n"
     ]
    }
   ],
   "source": [
    "#Keep only features 0, 2 and 3\n",
    "X2 = X[:, [0,2,3]]\n",
    "print(X2.shape)\n",
    "X_train_2, X_test_2, y_train_2, y_test_2 = train_test_split(X2, y, test_size=0.33)\n",
    "\n",
    "# train\n",
    "clf2 = ExtraTreesClassifier(n_jobs=2, n_estimators=10)\n",
    "clf2.fit(X_train_2, y_train_2)\n",
    "\n",
    "# get the score\n",
    "score = clf2.score(X_test_2, y_test_2)\n",
    "print(\"score {:.3f}\".format(score))\n"
   ]
  },
  {
   "cell_type": "code",
   "execution_count": 113,
   "metadata": {},
   "outputs": [
    {
     "data": {
      "image/png": "[encoded data removed]",
      "text/plain": [
       "<Figure size 432x288 with 2 Axes>"
      ]
     },
     "metadata": {},
     "output_type": "display_data"
    }
   ],
   "source": [
    "#Compare matrices\n",
    "from ConfusionMatrix import ConfusionMatrix\n",
    "from sklearn.metrics import confusion_matrix\n",
    "\n",
    "y_pred = clf.predict(X_test)\n",
    "y_pred2 = clf2.predict(X_test_2)\n",
    "cm = confusion_matrix(y_test, y_pred)\n",
    "cm2 = confusion_matrix(y_test_2, y_pred2)\n",
    "n_classes = len(np.unique(y))\n",
    "ConfusionMatrix.plot(cm, classes=range(n_classes), title=\"Confusion Matrix using all features\")"
   ]
  },
  {
   "cell_type": "code",
   "execution_count": 112,
   "metadata": {},
   "outputs": [
    {
     "data": {
      "image/png": "[encoded data removed]",
      "text/plain": [
       "<Figure size 432x288 with 2 Axes>"
      ]
     },
     "metadata": {},
     "output_type": "display_data"
    }
   ],
   "source": [
    "ConfusionMatrix.plot(cm2, classes=range(n_classes), title=\"Confusion Matrix using 4 selected features\")"
   ]
  },
  {
   "cell_type": "markdown",
   "metadata": {},
   "source": [
    "In the previous section, we saw that the importance of 3 features was the highest. The were the features 0, 2 and 3. These are all features taken directly from the iris dataset and not the ones with random noise added.\n",
    "\n",
    "The values for "
   ]
  },
  {
   "cell_type": "markdown",
   "metadata": {},
   "source": [
    "### Going further (optional)\n",
    "\n",
    "Now that you finished this notebook, it can be interesting to go a step further and try the points below:\n",
    "\n",
    "* Can we have better results (i.e. more relevant features and/or less features) if the input data are normalized ?\n",
    "* Can we retrieve the same relevant features with another features selection technique ?\n",
    "* Are the selected features only relevant for this specific classifier or do they generalize well with other classifiers ?\n",
    "* Plot the classifier performance for the K best features where K is $1, 2,..,k_{-1},k$ and comment the results\n",
    "* Anything you find relevant...\n",
    "\n",
    "Please answer to these questions just below in this same notebook."
   ]
  },
  {
   "cell_type": "code",
   "execution_count": null,
   "metadata": {
    "collapsed": true
   },
   "outputs": [],
   "source": []
  }
 ],
 "metadata": {
  "kernelspec": {
   "display_name": "Python 3",
   "language": "python",
   "name": "python3"
  },
  "language_info": {
   "codemirror_mode": {
    "name": "ipython",
    "version": 3
   },
   "file_extension": ".py",
   "mimetype": "text/x-python",
   "name": "python",
   "nbconvert_exporter": "python",
   "pygments_lexer": "ipython3",
   "version": "3.6.8"
  }
 },
 "nbformat": 4,
 "nbformat_minor": 2
}
