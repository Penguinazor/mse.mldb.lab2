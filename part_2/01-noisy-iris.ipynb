{
 "cells": [
  {
   "cell_type": "markdown",
   "metadata": {
    "colab_type": "text",
    "id": "tzBiurm9e_by"
   },
   "source": [
    "# Feature selection lab - Noisy Iris\n",
    "Lab developed by Gary Marigliano - 07.2018\n",
    "\n",
    "## Introduction\n",
    "\n",
    "In this notebook, the [famous iris](https://en.wikipedia.org/wiki/Iris_flower_data_set) dataset has been modified to insert noisy features. The goal is to retrieve the 4 original features (sepal length/width and petal length/width) using features selection techniques.\n",
    "\n",
    "You can use some features selection algorithms listed here (the python library should already been installed for this project): http://featureselection.asu.edu/html/skfeature.function.html and http://featureselection.asu.edu/tutorial.php\n",
    "\n",
    "## TODO in this notebook\n",
    "\n",
    "Answer the questions in this notebook (where **TODO student** is written)"
   ]
  },
  {
   "cell_type": "markdown",
   "metadata": {
    "colab_type": "text",
    "id": "P5jQhNnwe_b4"
   },
   "source": [
    "## Setup the Iris dataset"
   ]
  },
  {
   "cell_type": "code",
   "execution_count": 0,
   "metadata": {
    "colab": {},
    "colab_type": "code",
    "collapsed": true,
    "id": "9vePqIy3e_b6"
   },
   "outputs": [],
   "source": [
    "import numpy as np\n",
    "from matplotlib import pyplot as plt\n",
    "%matplotlib inline"
   ]
  },
  {
   "cell_type": "markdown",
   "metadata": {
    "colab_type": "text",
    "id": "IIDo-fdbe_cF"
   },
   "source": [
    "Below the dataset is modified to create new noisy features to the iris dataset."
   ]
  },
  {
   "cell_type": "code",
   "execution_count": 37,
   "metadata": {
    "colab": {
     "base_uri": "https://localhost:8080/",
     "height": 293
    },
    "colab_type": "code",
    "id": "r1K4MUN7e_cK",
    "outputId": "be1f5f6a-1b57-422b-bae7-a2ecdede44c8"
   },
   "outputs": [
    {
     "name": "stdout",
     "output_type": "stream",
     "text": [
      "[[  5.1          3.5          1.4          0.2         12.           3.89112835\n",
      "    3.12848727   5.07336629   3.87399945   5.18620163   5.72402369\n",
      "    3.20602402   6.00698295   1.79159803   4.70437903   6.39664069\n",
      "    2.50055248   5.01206042   7.69612094   6.75050704   3.73615969\n",
      "   -2.10242483]\n",
      " [  4.9          3.           1.4          0.2         12.           3.39112835\n",
      "    2.62848727   4.57336629   3.37399945   4.68620163   5.22402369\n",
      "    2.70602402   5.50698295   1.29159803   4.20437903   5.89664069\n",
      "    2.00055248   4.51206042   7.19612094   6.25050704   3.23615969\n",
      "   -2.60242483]\n",
      " [  4.7          3.2          1.3          0.2         12.           3.59112835\n",
      "    2.82848727   4.77336629   3.57399945   4.88620163   5.42402369\n",
      "    2.90602402   5.70698295   1.49159803   4.40437903   6.09664069\n",
      "    2.20055248   4.71206042   7.39612094   6.45050704   3.43615969\n",
      "   -2.40242483]]\n"
     ]
    }
   ],
   "source": [
    "from sklearn import datasets\n",
    "\n",
    "iris = datasets.load_iris()\n",
    "\n",
    "X = iris.data\n",
    "y = iris.target\n",
    "\n",
    "## Add some noisy features in the iris dataset\n",
    "\n",
    "# Add a feature that is always equals to a constant independently of the output --> useless feature\n",
    "constant_features = np.array([[12 for _ in range(X.shape[0])]]).transpose()\n",
    "X = np.append(X, constant_features, axis=1)\n",
    "\n",
    "# Add random noisy features. \n",
    "# These features are created using the first feature values with a more or less important noise level\n",
    "noise_levels = np.arange(1, 6, 0.3)\n",
    "first_feat = X[:, 1]\n",
    "\n",
    "n_samples = X.shape[0]\n",
    "for k in noise_levels:\n",
    "    noise = k*(np.random.rand() * 2 - 1)\n",
    "    noisy_features = [noise + first_feat[x] for x in range(n_samples)]\n",
    "    noisy_features = np.array([noisy_features]).transpose()\n",
    "    X = np.append(X, noisy_features, axis=1)\n",
    "\n",
    "# Here we can see that the 5th column is always equals to 12. The colunms after it are the noisy features.\n",
    "print(X[:3, :])"
   ]
  },
  {
   "cell_type": "markdown",
   "metadata": {
    "colab_type": "text",
    "id": "KTv5MMTQe_cY"
   },
   "source": [
    "Next, we start selecting relevant features. To do that, we prepare the data to be \"machine learning ready\".\n",
    "\n",
    "This means that we need to split the data into a train set and a test set.\n"
   ]
  },
  {
   "cell_type": "code",
   "execution_count": 0,
   "metadata": {
    "colab": {},
    "colab_type": "code",
    "collapsed": true,
    "id": "tgnS0xBIe_cZ"
   },
   "outputs": [],
   "source": [
    "from sklearn.model_selection import train_test_split\n",
    "\n",
    "X_train, X_test, y_train, y_test = train_test_split(X, y, test_size=0.33)"
   ]
  },
  {
   "cell_type": "markdown",
   "metadata": {
    "colab_type": "text",
    "id": "I2x8mUW3e_cf"
   },
   "source": [
    "For this first notebook, the example below shows how to train and get the features sorted by decreasing importance."
   ]
  },
  {
   "cell_type": "code",
   "execution_count": 39,
   "metadata": {
    "colab": {
     "base_uri": "https://localhost:8080/",
     "height": 35
    },
    "colab_type": "code",
    "id": "NETmwHUWe_ch",
    "outputId": "94893999-193c-4936-fe6a-edaa24e870fd"
   },
   "outputs": [
    {
     "name": "stdout",
     "output_type": "stream",
     "text": [
      "score 0.900\n"
     ]
    }
   ],
   "source": [
    "from sklearn.ensemble import ExtraTreesClassifier\n",
    "\n",
    "# train\n",
    "clf = ExtraTreesClassifier(n_jobs=2, n_estimators=10)\n",
    "clf.fit(X_train, y_train)\n",
    "\n",
    "# get the score\n",
    "score = clf.score(X_test, y_test)\n",
    "print(\"score {:.3f}\".format(score))\n",
    "\n",
    "# rank the features\n",
    "importances = clf.feature_importances_\n",
    "\n",
    "indices = np.argsort(importances)[::-1]\n",
    "\n",
    "n_features = X_train.shape[1]\n",
    "\n",
    "# get the features sorted by decreasing importance\n",
    "feat_importances_sorted = [(indices[f], importances[indices[f]]) for f in range(n_features)]"
   ]
  },
  {
   "cell_type": "markdown",
   "metadata": {
    "colab_type": "text",
    "id": "mnhE8Bpse_cp"
   },
   "source": [
    "**TODO student**: \n",
    "* Plot the features importances with a bar chart (see picture below)\n",
    "* Comment the plot you just made. Here are some clues about the questions you should ask yourself:\n",
    "   * What this plot represents ?\n",
    "   * How do you compare two features using this graph ?\n",
    "   * How would you choose a \"good\" number of good features ?\n",
    "   * How can you be sure that the features you select are relevant ? What kind of tasks should you do ?\n",
    "   * How could you prove it ?\n",
    "   * For this modified dataset, is it really useful to reduce the number of features ?\n",
    "   * How easy/hard it is to retrieve the original features ?"
   ]
  },
  {
   "cell_type": "markdown",
   "metadata": {
    "colab_type": "text",
    "id": "cx6871eKe_ct"
   },
   "source": [
    "<img src=\"assets/01-noisy-iris-feat-importances-example.png\" />"
   ]
  },
  {
   "cell_type": "code",
   "execution_count": 40,
   "metadata": {
    "colab": {
     "base_uri": "https://localhost:8080/",
     "height": 335
    },
    "colab_type": "code",
    "id": "7cz_ebvre_cx",
    "outputId": "9360c990-2614-43e3-ab3e-1676638e49c2"
   },
   "outputs": [
    {
     "data": {
      "image/png": "[encoded data removed]",
      "text/plain": [
       "<matplotlib.figure.Figure at 0x7f658281d2e8>"
      ]
     },
     "metadata": {
      "tags": []
     },
     "output_type": "display_data"
    }
   ],
   "source": [
    "fig, ax = plt.subplots(figsize=(10,5))\n",
    "\n",
    "sorted_x = np.argsort(-importances)\n",
    "sorted_y = sorted(importances, reverse=True)\n",
    "labels = list(map(lambda x : 'Feat. {}'.format(x), sorted_x))\n",
    "\n",
    "ax.set_xlabel('Features')\n",
    "ax.set_ylabel('Score')\n",
    "ax.set_title('Scores per features')\n",
    "ax.get_xaxis().set_visible(False)\n",
    "# We hide the X axis since we provided dummy values to prevent automatic sorting\n",
    "rects = ax.patches\n",
    "\n",
    "ax.bar(np.arange(0, len(importances)), sorted_y, 0.8)\n",
    "ax.set_xticklabels(sorted_x)\n",
    "\n",
    "for rect, label in zip(rects, labels):\n",
    "    height = rect.get_height()\n",
    "    ax.text(rect.get_x() + rect.get_width() / 2, height+0.01, label,\n",
    "            ha='center', va='bottom', rotation = 90)\n"
   ]
  },
  {
   "cell_type": "markdown",
   "metadata": {
    "colab_type": "text",
    "id": "wvM5Ayb0e_c-"
   },
   "source": [
    "## Comments\n",
    "This plot represents the \"importance\" of each feature, meaning how much each feature contributed to the classification of each sample. For example, our uniform feature that is always equal to 12 (Feature 4) has an importance of 0.0, since it does not contribute in any way to the classification. Feature 2, on the other hand, was the most important in classifying data.\n",
    " \n",
    "In our case, we have 3 clear \"good\" features, that have a high impact on the classification. The remaining features still have an impact, however for the features we added with a random number generator this means that the features are not contributing to the classification, they are merely adapting to random noise. By reducing the number of features, we can eliminate these \"bad\" features and keep only a few.\n",
    "\n",
    "For this small dataset, reducing the number of features is not essential since the calculation time is too small to be impactful. Even if a feature only contributes a fraction of a percent to the classification, there is a net gain since calculation time is not noticeable. It only applies if the feature is contributing to the classification and is not based on random noise. On larger datasets, however, excessive features will slow down the process and feature selection is practically mandatory. \n",
    "\n",
    "To verify that features are relevant, we should train a new model using only the selected features, which we will do at the end of this notebook. Ideally, multiple classifiers should be used and then compared to the results of using all features available/random features. It will be done in parts 2 and 3 of this lab.\n",
    "\n",
    "In this example, retrieving the original features is easy except for the one that was multiplied with random noise: since every random noise feature is based off one original feature, it ends up not having a high importance since by chance other features could seem to contain similar information, especially if only a small amount of noise is added. If the \"noisy\" features were truly random and not based on an original feature, this would not occur."
   ]
  },
  {
   "cell_type": "markdown",
   "metadata": {
    "colab_type": "text",
    "id": "ifaX_KnDe_dD"
   },
   "source": [
    "## Assessing the relevance of the features' score\n",
    "\n",
    "Now that we have the features sorted by decreasing importances, your task is to choose which ones to keep.\n",
    "\n",
    "**TODO student**:\n",
    "\n",
    "* Choose N features that you find relevant\n",
    "* Justify the N number you chose\n",
    "* Compare, using a confusion matrix or an other relevant score metric, the classifier performance between:\n",
    "    * your selected features and the noisy iris dataset \n",
    "    * your selected features and some N random features (take the average score of K runs for the random features)\n",
    "    * your selected features and the worse N features (look at your feature importance plot)\n",
    "* Comment the obtained results. Here are some clues about the questions you should ask yourself:\n",
    "    * Among the features you select how many are the original features ?\n",
    "    * Is the useless feature (the one that always contains the same value) selected ?\n",
    "    \n",
    "To plot a prettier confusion matrix you can use this class:\n",
    "\n",
    "``` python\n",
    "from ConfusionMatrix import ConfusionMatrix\n",
    "y_pred = clf.predict(X_test_random)\n",
    "cm = confusion_matrix(y_test, y_pred)\n",
    "n_classes = len(np.unique(y))\n",
    "ConfusionMatrix.plot(cm, classes=range(n_classes), title=\"Confusion Matrix\")\n",
    "```"
   ]
  },
  {
   "cell_type": "code",
   "execution_count": 41,
   "metadata": {
    "colab": {
     "base_uri": "https://localhost:8080/",
     "height": 90
    },
    "colab_type": "code",
    "id": "RJ6ra8Qle_dG",
    "outputId": "14598f9e-034c-4700-dcb9-3748cdddef6b"
   },
   "outputs": [
    {
     "name": "stdout",
     "output_type": "stream",
     "text": [
      "(150, 3)\n",
      "score 0.900\n",
      "(150, 3)\n",
      "score 0.400\n"
     ]
    }
   ],
   "source": [
    "#Keep only features 0, 2 and 3\n",
    "X2 = X[:, [0,2,3]]\n",
    "print(X2.shape)\n",
    "X_train_2, X_test_2, y_train_2, y_test_2 = train_test_split(X2, y, test_size=0.33)\n",
    "\n",
    "# train\n",
    "clf2 = ExtraTreesClassifier(n_jobs=2, n_estimators=10)\n",
    "clf2.fit(X_train_2, y_train_2)\n",
    "\n",
    "# get the score\n",
    "score = clf2.score(X_test_2, y_test_2)\n",
    "print(\"score {:.3f}\".format(score))\n",
    "\n",
    "# Keep only worst 4 features\n",
    "X3 = X[:, sorted_x[-3:]]\n",
    "print(X2.shape)\n",
    "X_train_3, X_test_3, y_train_3, y_test_3 = train_test_split(X3, y, test_size=0.33)\n",
    "\n",
    "# train\n",
    "clf3 = ExtraTreesClassifier(n_jobs=2, n_estimators=10)\n",
    "clf3.fit(X_train_3, y_train_3)\n",
    "\n",
    "# get the score\n",
    "score = clf3.score(X_test_3, y_test_3)\n",
    "print(\"score {:.3f}\".format(score))\n",
    "\n"
   ]
  },
  {
   "cell_type": "code",
   "execution_count": 42,
   "metadata": {
    "colab": {
     "base_uri": "https://localhost:8080/",
     "height": 295
    },
    "colab_type": "code",
    "id": "Dow7jt6_e_dU",
    "outputId": "0c4001d6-39a7-421f-86fa-18be22fce8ad"
   },
   "outputs": [
    {
     "data": {
      "image/png": "[encoded data removed]",
      "text/plain": [
       "<matplotlib.figure.Figure at 0x7f658286ecf8>"
      ]
     },
     "metadata": {
      "tags": []
     },
     "output_type": "display_data"
    }
   ],
   "source": [
    "#Compare matrices\n",
    "from ConfusionMatrix import ConfusionMatrix\n",
    "from sklearn.metrics import confusion_matrix\n",
    "\n",
    "y_pred = clf.predict(X_test)\n",
    "y_pred2 = clf2.predict(X_test_2)\n",
    "y_pred3 = clf3.predict(X_test_3)\n",
    "cm = confusion_matrix(y_test, y_pred)\n",
    "cm2 = confusion_matrix(y_test_2, y_pred2)\n",
    "cm3 = confusion_matrix(y_test_3, y_pred3)\n",
    "n_classes = len(np.unique(y))\n",
    "ConfusionMatrix.plot(cm, classes=range(n_classes), title=\"Confusion Matrix using all features\")"
   ]
  },
  {
   "cell_type": "code",
   "execution_count": 43,
   "metadata": {
    "colab": {
     "base_uri": "https://localhost:8080/",
     "height": 295
    },
    "colab_type": "code",
    "id": "Ermqf8P6e_db",
    "outputId": "7142f305-5bd4-430a-f00b-41450565a0e4"
   },
   "outputs": [
    {
     "data": {
      "image/png": "[encoded data removed]",
      "text/plain": [
       "<matplotlib.figure.Figure at 0x7f65821cec88>"
      ]
     },
     "metadata": {
      "tags": []
     },
     "output_type": "display_data"
    }
   ],
   "source": [
    "ConfusionMatrix.plot(cm2, classes=range(n_classes), title=\"Confusion Matrix using 3 selected features\")"
   ]
  },
  {
   "cell_type": "code",
   "execution_count": 44,
   "metadata": {
    "colab": {
     "base_uri": "https://localhost:8080/",
     "height": 295
    },
    "colab_type": "code",
    "id": "theSBpPxsf0E",
    "outputId": "abf359ba-9361-41a1-fd12-4125b2eacf46"
   },
   "outputs": [
    {
     "data": {
      "image/png": "[encoded data removed]",
      "text/plain": [
       "<matplotlib.figure.Figure at 0x7f6582a7c208>"
      ]
     },
     "metadata": {
      "tags": []
     },
     "output_type": "display_data"
    }
   ],
   "source": [
    "ConfusionMatrix.plot(cm3, classes=range(n_classes), title=\"Confusion Matrix using 4 worst features\")"
   ]
  },
  {
   "cell_type": "markdown",
   "metadata": {
    "colab_type": "text",
    "id": "9Mhg-CNZe_di"
   },
   "source": [
    "## Assessing score\n",
    "\n",
    "In the previous section, we saw that the importance of 3 features was the highest. They were the features 0, 2 and 3. These are all features taken directly from the iris dataset and not the ones with random noise added. \n",
    "\n",
    "These selected features clearly have the highest accuracy and the least amount of classification errors. We did not use one of the original dataset features (before noise) since it did not appear with high importance during our feature selection stage.\n",
    "\n",
    "Using the worst features gives an obviously bad result, with an overall accuracy of 0.4. \n",
    "\n",
    "The useless feature was obviously not selected for our \"selected features\" since it brings no information to the classifier and therefore increases complexity with absolutely no accuracy gain. However, it was selected when choosing the worst features, since it has an importance of 0 for the reason explained above."
   ]
  },
  {
   "cell_type": "markdown",
   "metadata": {
    "colab_type": "text",
    "id": "-DXQvzCAe_dl"
   },
   "source": [
    "### Going further (optional)\n",
    "\n",
    "Now that you finished this notebook, it can be interesting to go a step further and try the points below:\n",
    "\n",
    "* Can we have better results (i.e. more relevant features and/or less features) if the input data are normalized ?\n",
    "* Can we retrieve the same relevant features with another features selection technique ?\n",
    "* Are the selected features only relevant for this specific classifier or do they generalize well with other classifiers ?\n",
    "* Plot the classifier performance for the K best features where K is $1, 2,..,k_{-1},k$ and comment the results\n",
    "* Anything you find relevant...\n",
    "\n",
    "Please answer to these questions just below in this same notebook."
   ]
  },
  {
   "cell_type": "code",
   "execution_count": 0,
   "metadata": {
    "colab": {},
    "colab_type": "code",
    "collapsed": true,
    "id": "XmAkQYste_do"
   },
   "outputs": [],
   "source": []
  }
 ],
 "metadata": {
  "colab": {
   "collapsed_sections": [],
   "name": "01-noisy-iris.ipynb",
   "provenance": [],
   "toc_visible": true,
   "version": "0.3.2"
  },
  "kernelspec": {
   "display_name": "Python 3",
   "language": "python",
   "name": "python3"
  },
  "language_info": {
   "codemirror_mode": {
    "name": "ipython",
    "version": 3
   },
   "file_extension": ".py",
   "mimetype": "text/x-python",
   "name": "python",
   "nbconvert_exporter": "python",
   "pygments_lexer": "ipython3",
   "version": "3.6.8"
  }
 },
 "nbformat": 4,
 "nbformat_minor": 1
}
